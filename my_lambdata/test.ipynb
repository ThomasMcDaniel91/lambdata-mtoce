{
 "cells": [
  {
   "cell_type": "code",
   "execution_count": 17,
   "metadata": {},
   "outputs": [
    {
     "output_type": "stream",
     "name": "stdout",
     "text": "Looking in indexes: https://test.pypi.org/simple/\nRequirement already satisfied: lambdata-mtoce==1.0 in c:\\users\\mike\\.virtualenvs\\lambdata-mtoce-ohc_ymc4\\lib\\site-packages (1.0)\n"
    }
   ],
   "source": [
    "!pip install -i https://test.pypi.org/simple/ lambdata-mtoce==1.0"
   ]
  },
  {
   "cell_type": "code",
   "execution_count": 18,
   "metadata": {},
   "outputs": [],
   "source": [
    "import pandas as pd\n",
    "import datetime\n",
    "import split_date, add_column, state_abbrev"
   ]
  },
  {
   "cell_type": "code",
   "execution_count": 19,
   "metadata": {},
   "outputs": [],
   "source": [
    "df = pd.read_csv('https://raw.githubusercontent.com/mtoce/Build2-Project/master/astros_bangs_20200127.csv')"
   ]
  },
  {
   "cell_type": "code",
   "execution_count": 20,
   "metadata": {},
   "outputs": [
    {
     "output_type": "execute_result",
     "data": {
      "text/plain": "dtype('O')"
     },
     "metadata": {},
     "execution_count": 20
    }
   ],
   "source": [
    "df['game_date'].dtype"
   ]
  },
  {
   "cell_type": "code",
   "execution_count": 21,
   "metadata": {},
   "outputs": [
    {
     "output_type": "error",
     "ename": "SyntaxError",
     "evalue": "invalid syntax (<ipython-input-21-88af6ae5b4f0>, line 3)",
     "traceback": [
      "\u001b[1;36m  File \u001b[1;32m\"<ipython-input-21-88af6ae5b4f0>\"\u001b[1;36m, line \u001b[1;32m3\u001b[0m\n\u001b[1;33m    from\u001b[0m\n\u001b[1;37m        ^\u001b[0m\n\u001b[1;31mSyntaxError\u001b[0m\u001b[1;31m:\u001b[0m invalid syntax\n"
     ]
    }
   ],
   "source": [
    "import pandas as pd\n",
    "import datetime\n",
    "from\n",
    "\n",
    "# def convert_split_dates(X, column):\n",
    "#     '''\n",
    "#     Converts an object column into a datetime dtype.\n",
    "#     Then creates columns for year, month and day.\n",
    "#     Input: dataframe, column of dataframe you plan to convert / create new columns with\n",
    "#     Output: dataframe with new columns\n",
    "#     '''\n",
    "    \n",
    "#     X = X.copy()\n",
    "\n",
    "#     # create a boolean index to see if our column is the correct type\n",
    "#     if (X[column].dtype == 'O'):\n",
    "#         X[column] = pd.to_datetime(X[column], infer_datetime_format=True)\n",
    "#         # if the column type is correct, simply create new cols\n",
    "#         X['date_year'] = X[column].dt.year\n",
    "#         X['date_month'] = X[column].dt.month\n",
    "#         X['date_day'] = X[column].dt.day\n",
    "#     else:\n",
    "#        print(\"The type of your column is not an object, datetime, or timestamp.\")\n",
    "\n",
    "#     return X\n",
    "        "
   ]
  },
  {
   "cell_type": "code",
   "execution_count": 25,
   "metadata": {},
   "outputs": [],
   "source": [
    "new_df = split_date.convert_split_dates(df, 'game_date')"
   ]
  },
  {
   "cell_type": "code",
   "execution_count": 29,
   "metadata": {},
   "outputs": [
    {
     "output_type": "execute_result",
     "data": {
      "text/plain": "dtype('<M8[ns]')"
     },
     "metadata": {},
     "execution_count": 29
    }
   ],
   "source": [
    "new_df['game_date'].dtype"
   ]
  },
  {
   "cell_type": "code",
   "execution_count": 30,
   "metadata": {},
   "outputs": [
    {
     "output_type": "execute_result",
     "data": {
      "text/plain": "0       2017\n1       2017\n2       2017\n3       2017\n4       2017\n        ... \n8269    2017\n8270    2017\n8271    2017\n8272    2017\n8273    2017\nName: date_year, Length: 8274, dtype: int64"
     },
     "metadata": {},
     "execution_count": 30
    }
   ],
   "source": [
    "new_df['date_year']"
   ]
  },
  {
   "cell_type": "code",
   "execution_count": 31,
   "metadata": {},
   "outputs": [],
   "source": [
    "df_with_new_col = add_column.add_column(new_df, new_df['date_year'].to_list(), 'year_created_from_fnct')"
   ]
  },
  {
   "cell_type": "code",
   "execution_count": 33,
   "metadata": {},
   "outputs": [
    {
     "output_type": "execute_result",
     "data": {
      "text/plain": "0       2017\n1       2017\n2       2017\n3       2017\n4       2017\n        ... \n8269    2017\n8270    2017\n8271    2017\n8272    2017\n8273    2017\nName: year_created_from_fnct, Length: 8274, dtype: int64"
     },
     "metadata": {},
     "execution_count": 33
    }
   ],
   "source": [
    "df_with_new_col['year_created_from_fnct']"
   ]
  },
  {
   "cell_type": "code",
   "execution_count": null,
   "metadata": {},
   "outputs": [],
   "source": []
  }
 ],
 "metadata": {
  "language_info": {
   "codemirror_mode": {
    "name": "ipython",
    "version": 3
   },
   "file_extension": ".py",
   "mimetype": "text/x-python",
   "name": "python",
   "nbconvert_exporter": "python",
   "pygments_lexer": "ipython3",
   "version": "3.7.6-final"
  },
  "orig_nbformat": 2,
  "kernelspec": {
   "name": "python3",
   "display_name": "Python 3"
  }
 },
 "nbformat": 4,
 "nbformat_minor": 2
}