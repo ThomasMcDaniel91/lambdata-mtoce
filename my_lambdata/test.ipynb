{
 "cells": [
  {
   "cell_type": "code",
   "execution_count": 126,
   "metadata": {},
   "outputs": [],
   "source": [
    "import pandas as pd\n",
    "import datetime"
   ]
  },
  {
   "cell_type": "code",
   "execution_count": 128,
   "metadata": {},
   "outputs": [],
   "source": [
    "df = pd.read_csv('https://raw.githubusercontent.com/mtoce/Build2-Project/master/astros_bangs_20200127.csv')"
   ]
  },
  {
   "cell_type": "code",
   "execution_count": 129,
   "metadata": {},
   "outputs": [
    {
     "output_type": "execute_result",
     "data": {
      "text/plain": "dtype('O')"
     },
     "metadata": {},
     "execution_count": 129
    }
   ],
   "source": [
    "df['game_date'].dtype"
   ]
  },
  {
   "cell_type": "code",
   "execution_count": 130,
   "metadata": {},
   "outputs": [],
   "source": [
    "import pandas as pd\n",
    "import datetime\n",
    "\n",
    "def convert_split_dates(X, column):\n",
    "    '''\n",
    "    Converts an object column into a datetime dtype.\n",
    "    Then creates columns for year, month and day.\n",
    "    Input: dataframe, column of dataframe you plan to convert / create new columns with\n",
    "    Output: dataframe with new columns\n",
    "    '''\n",
    "    \n",
    "    X = X.copy()\n",
    "\n",
    "    # create a boolean index to see if our column is the correct type\n",
    "    if (X[column].dtype == 'O'):\n",
    "        X[column] = pd.to_datetime(X[column], infer_datetime_format=True)\n",
    "        # if the column type is correct, simply create new cols\n",
    "        X['date_year'] = X[column].dt.year\n",
    "        X['date_month'] = X[column].dt.month\n",
    "        X['date_day'] = X[column].dt.day\n",
    "    else:\n",
    "       print(\"The type of your column is not an object, datetime, or timestamp.\")\n",
    "\n",
    "    return X\n",
    "        "
   ]
  },
  {
   "cell_type": "code",
   "execution_count": 131,
   "metadata": {},
   "outputs": [],
   "source": [
    "new_df = convert_split_dates(df, 'game_date')"
   ]
  },
  {
   "cell_type": "code",
   "execution_count": 132,
   "metadata": {},
   "outputs": [
    {
     "output_type": "execute_result",
     "data": {
      "text/plain": "dtype('<M8[ns]')"
     },
     "metadata": {},
     "execution_count": 132
    }
   ],
   "source": [
    "new_df['game_date'].dtype"
   ]
  },
  {
   "cell_type": "code",
   "execution_count": 133,
   "metadata": {},
   "outputs": [
    {
     "output_type": "execute_result",
     "data": {
      "text/plain": "0       2017\n1       2017\n2       2017\n3       2017\n4       2017\n        ... \n8269    2017\n8270    2017\n8271    2017\n8272    2017\n8273    2017\nName: date_year, Length: 8274, dtype: int64"
     },
     "metadata": {},
     "execution_count": 133
    }
   ],
   "source": [
    "new_df['date_year']"
   ]
  },
  {
   "cell_type": "code",
   "execution_count": null,
   "metadata": {},
   "outputs": [],
   "source": []
  }
 ],
 "metadata": {
  "language_info": {
   "codemirror_mode": {
    "name": "ipython",
    "version": 3
   },
   "file_extension": ".py",
   "mimetype": "text/x-python",
   "name": "python",
   "nbconvert_exporter": "python",
   "pygments_lexer": "ipython3",
   "version": "3.7.6-final"
  },
  "orig_nbformat": 2,
  "kernelspec": {
   "name": "python3",
   "display_name": "Python 3"
  }
 },
 "nbformat": 4,
 "nbformat_minor": 2
}